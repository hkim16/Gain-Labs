{
 "metadata": {
  "name": "FDI, ODA, GAIN"
 },
 "nbformat": 3,
 "nbformat_minor": 0,
 "worksheets": [
  {
   "cells": [
    {
     "cell_type": "markdown",
     "metadata": {},
     "source": [
      "#Comapre Private and Public money inflows by Country\n",
      "\n",
      "First get the data for FDI and ODA"
     ]
    },
    {
     "cell_type": "code",
     "collapsed": false,
     "input": [
      "#load WB fetcher\n",
      "import WB_data as WB\n",
      "\n",
      "#Foreign direct investment, net (BoP, current US$)\n",
      "FDI_indicator=\"BN.KLT.DINV.CD\"\n",
      "FDI=WB.WB_data_grab(FDI_indicator)\n",
      "\n",
      "#Net official development assistance and official aid received (current US$)\n",
      "ODA_indicator=\"DT.ODA.ALLD.CD\"\n",
      "ODA=WB.WB_data_grab(ODA_indicator)\n"
     ],
     "language": "python",
     "metadata": {},
     "outputs": [
      {
       "output_type": "stream",
       "stream": "stdout",
       "text": [
        "Reading country metadata\n",
        "Using local cached file\n",
        "Reading country metadata"
       ]
      },
      {
       "output_type": "stream",
       "stream": "stdout",
       "text": [
        "\n",
        "Using local cached file\n"
       ]
      }
     ],
     "prompt_number": 1
    },
    {
     "cell_type": "markdown",
     "metadata": {},
     "source": [
      "Now Join them into a 3D panel"
     ]
    },
    {
     "cell_type": "code",
     "collapsed": false,
     "input": [
      "import pandas as pd\n",
      "\n",
      "joint=pd.Panel({'FDI':FDI,'ODA':ODA})"
     ],
     "language": "python",
     "metadata": {},
     "outputs": [],
     "prompt_number": 2
    },
    {
     "cell_type": "markdown",
     "metadata": {},
     "source": [
      "Now save it in the format to be used for D3.\n",
      "Specifically the format used in the [motion chart example](http://bost.ocks.org/mike/nations/)\n",
      "\n",
      "That is, a Json in the format: [{\"name\":\"Spain\"},\"xaxis\":[[year,value],...], ...]"
     ]
    },
    {
     "cell_type": "code",
     "collapsed": false,
     "input": [
      "import numpy as np\n",
      "import json\n",
      "\n",
      "x=joint['FDI']['2010'].values\n",
      "y=joint['ODA']['2010'].values\n",
      "labels=joint['FDI']['2010'].index.values #ISO2\n",
      "years=joint.minor_axis\n",
      "\n",
      "ISO2=\"ES\"\n",
      "\n",
      "jsonf=[]\n",
      "for ISO3 in labels:\n",
      "    x=joint['FDI'].ix[ISO3].values\n",
      "    y=joint['ODA'].ix[ISO3].values\n",
      "    jsonf.append({\n",
      "        \"name\":str(ISO3),\n",
      "        \"fdi\":[[int(a),float(b)] for a,b in zip(years,x)  if b!=None], #pythonic way to remove None pairs in x\n",
      "        \"oda\":[[int(a),float(b)] for a,b in zip(years,y)  if b!=None]\n",
      "        })\n",
      "#drop countries where FDI OR ODA are empty\n",
      "jsonf=[country for country in jsonf if (country[\"fdi\"]!=[] and country[\"oda\"]!=[])]\n",
      "\n",
      "filename=\"FDI-ODA.json\"\n",
      "json.dump(jsonf, open(filename, 'wb'))  \n"
     ],
     "language": "python",
     "metadata": {},
     "outputs": [],
     "prompt_number": 3
    },
    {
     "cell_type": "markdown",
     "metadata": {},
     "source": [
      "The rest is on D3, so go to the html:w\n"
     ]
    },
    {
     "cell_type": "code",
     "collapsed": false,
     "input": [],
     "language": "python",
     "metadata": {},
     "outputs": [],
     "prompt_number": 3
    }
   ],
   "metadata": {}
  }
 ]
}