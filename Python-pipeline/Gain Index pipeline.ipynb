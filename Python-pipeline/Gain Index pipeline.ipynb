{
 "metadata": {
  "name": "Gain Index pipeline"
 },
 "nbformat": 3,
 "nbformat_minor": 0,
 "worksheets": [
  {
   "cells": [
    {
     "cell_type": "markdown",
     "metadata": {},
     "source": [
      "#Importing the Gain Index resources\n",
      "First read the Gain file"
     ]
    },
    {
     "cell_type": "code",
     "collapsed": false,
     "input": [
      "import numpy as np\n",
      "import pandas as pd\n",
      "gain= pd.read_table('resources/gain/gain.csv',sep=',')\n",
      "gain_delta= pd.read_table('resources/gain/gain_delta.csv',sep=',')\n"
     ],
     "language": "python",
     "metadata": {},
     "outputs": [],
     "prompt_number": 36
    },
    {
     "cell_type": "code",
     "collapsed": false,
     "input": [
      "gain_delta.columns"
     ],
     "language": "python",
     "metadata": {},
     "outputs": [
      {
       "output_type": "pyout",
       "prompt_number": 40,
       "text": [
        "Index([ISO3, Name, 1995, 1996, 1997, 1998, 1999, 2000, 2001, 2002, 2003,\n",
        "       2004, 2005, 2006, 2007, 2008, 2009, 2010, 2011], dtype=object)"
       ]
      }
     ],
     "prompt_number": 40
    },
    {
     "cell_type": "code",
     "collapsed": false,
     "input": [
      "gain_delta.columns[3:]"
     ],
     "language": "python",
     "metadata": {},
     "outputs": [
      {
       "output_type": "pyout",
       "prompt_number": 42,
       "text": [
        "Index([1996, 1997, 1998, 1999, 2000, 2001, 2002, 2003, 2004, 2005, 2006,\n",
        "       2007, 2008, 2009, 2010, 2011], dtype=object)"
       ]
      }
     ],
     "prompt_number": 42
    },
    {
     "cell_type": "markdown",
     "metadata": {},
     "source": [
      "Name the Indices [Rows] using the ISO3"
     ]
    },
    {
     "cell_type": "code",
     "collapsed": false,
     "input": [
      "gain_delta.index=gain_delta['ISO3']"
     ],
     "language": "python",
     "metadata": {},
     "outputs": [],
     "prompt_number": 54
    },
    {
     "cell_type": "code",
     "collapsed": false,
     "input": [
      "gain_delta['1995']['ESP']"
     ],
     "language": "python",
     "metadata": {},
     "outputs": [
      {
       "output_type": "pyout",
       "prompt_number": 61,
       "text": [
        "1.5438469669999999"
       ]
      }
     ],
     "prompt_number": 61
    },
    {
     "cell_type": "code",
     "collapsed": false,
     "input": [
      "np.isfinite(gain_delta['1995']).count()"
     ],
     "language": "python",
     "metadata": {},
     "outputs": [
      {
       "output_type": "pyout",
       "prompt_number": 64,
       "text": [
        "192"
       ]
      }
     ],
     "prompt_number": 64
    },
    {
     "cell_type": "markdown",
     "metadata": {},
     "source": [
      "* **Items** is z\n",
      "* **major_axis** is rows\n",
      "* **minor_axis** is columns"
     ]
    },
    {
     "cell_type": "code",
     "collapsed": false,
     "input": [
      "gain.index= gain_delta.index"
     ],
     "language": "python",
     "metadata": {},
     "outputs": [],
     "prompt_number": 71
    },
    {
     "cell_type": "code",
     "collapsed": false,
     "input": [
      "w=pd.Panel({'gain':gain,'gain_delta':gain_delta})"
     ],
     "language": "python",
     "metadata": {},
     "outputs": [],
     "prompt_number": 76
    },
    {
     "cell_type": "code",
     "collapsed": false,
     "input": [
      "w"
     ],
     "language": "python",
     "metadata": {},
     "outputs": [
      {
       "output_type": "pyout",
       "prompt_number": 77,
       "text": [
        "<class 'pandas.core.panel.Panel'>\n",
        "Dimensions: 2 (items) x 192 (major) x 19 (minor)\n",
        "Items: gain to gain_delta\n",
        "Major axis: AFG to ZWE\n",
        "Minor axis: ISO3 to 2011"
       ]
      }
     ],
     "prompt_number": 77
    },
    {
     "cell_type": "code",
     "collapsed": false,
     "input": [
      "w['new']=gain"
     ],
     "language": "python",
     "metadata": {},
     "outputs": [],
     "prompt_number": 99
    },
    {
     "cell_type": "code",
     "collapsed": false,
     "input": [
      "w"
     ],
     "language": "python",
     "metadata": {},
     "outputs": [
      {
       "output_type": "pyout",
       "prompt_number": 100,
       "text": [
        "<class 'pandas.core.panel.Panel'>\n",
        "Dimensions: 3 (items) x 192 (major) x 19 (minor)\n",
        "Items: gain to new\n",
        "Major axis: AFG to ZWE\n",
        "Minor axis: ISO3 to 2011"
       ]
      }
     ],
     "prompt_number": 100
    },
    {
     "cell_type": "code",
     "collapsed": false,
     "input": [
      "w['gain']['1995']['ESP']"
     ],
     "language": "python",
     "metadata": {},
     "outputs": [
      {
       "output_type": "pyout",
       "prompt_number": 83,
       "text": [
        "68.93444647"
       ]
      }
     ],
     "prompt_number": 83
    },
    {
     "cell_type": "code",
     "collapsed": false,
     "input": [
      "w"
     ],
     "language": "python",
     "metadata": {},
     "outputs": [
      {
       "output_type": "pyout",
       "prompt_number": 144,
       "text": [
        "<class 'pandas.core.panel.Panel'>\n",
        "Dimensions: 3 (items) x 192 (major) x 19 (minor)\n",
        "Items: gain to new\n",
        "Major axis: AFG to ZWE\n",
        "Minor axis: ISO3 to 2011"
       ]
      }
     ],
     "prompt_number": 144
    },
    {
     "cell_type": "code",
     "collapsed": false,
     "input": [
      "w2=pd.Panel({})\n",
      "w2['gain']=gain\n"
     ],
     "language": "python",
     "metadata": {},
     "outputs": [],
     "prompt_number": 108
    },
    {
     "cell_type": "markdown",
     "metadata": {},
     "source": [
      "#1- Import Raw0 \n",
      "**Import all raw0 measures from the official csv**\n",
      "\n",
      "I'm using the gain output as the template for the rows (countries) and columns (years)\n",
      "I'm also using `in2csv` to standarize the csv. the input files gives probles, I think cause they are encoded in Macroman."
     ]
    },
    {
     "cell_type": "code",
     "collapsed": false,
     "input": [
      "import os\n",
      "#Create a Panel (like a 3D Excel sheet)\n",
      "#take the gain as the template of rows and columns, z is measure\n",
      "template=pd.read_table('resources/gain/gain.csv', sep=',')\n",
      "template.index=template['ISO3']\n",
      "raw0=pd.Panel({'template':template}) \n",
      "print 'Adding Raw0 data: ',\n",
      "for measure in os.listdir('resources/indicators/'):\n",
      "    filein='resources/indicators/'+measure+'/raw0.csv'\n",
      "    if os.path.exists(filein):\n",
      "        print measure+', ',\n",
      "        #Standarize csv before import, to avoid errors\n",
      "        filein_fix='resources/indicators/'+measure+'/raw0-fix.csv'\n",
      "        !in2csv -e macroman $filein > $filein_fix\n",
      "        measure_data= pd.read_table(filein_fix,sep=',')\n",
      "        #os.remove(filein_fix)\n",
      "        measure_data.index=measure_data['ISO3']\n",
      "        raw0[measure]=measure_data"
     ],
     "language": "python",
     "metadata": {},
     "outputs": [
      {
       "output_type": "stream",
       "stream": "stdout",
       "text": [
        "Adding Raw0 data:  biome_threat, "
       ]
      },
      {
       "output_type": "stream",
       "stream": "stdout",
       "text": [
        " "
       ]
      },
      {
       "output_type": "stream",
       "stream": "stdout",
       "text": [
        "business, "
       ]
      },
      {
       "output_type": "stream",
       "stream": "stdout",
       "text": [
        " "
       ]
      },
      {
       "output_type": "stream",
       "stream": "stdout",
       "text": [
        "coast_area, "
       ]
      },
      {
       "output_type": "stream",
       "stream": "stdout",
       "text": [
        " "
       ]
      },
      {
       "output_type": "stream",
       "stream": "stdout",
       "text": [
        "coast_popn, "
       ]
      },
      {
       "output_type": "stream",
       "stream": "stdout",
       "text": [
        " "
       ]
      },
      {
       "output_type": "stream",
       "stream": "stdout",
       "text": [
        "corruption, "
       ]
      },
      {
       "output_type": "stream",
       "stream": "stdout",
       "text": [
        " "
       ]
      },
      {
       "output_type": "stream",
       "stream": "stdout",
       "text": [
        "d-Ppt, "
       ]
      },
      {
       "output_type": "stream",
       "stream": "stdout",
       "text": [
        " "
       ]
      },
      {
       "output_type": "stream",
       "stream": "stdout",
       "text": [
        "d-Temp, "
       ]
      },
      {
       "output_type": "stream",
       "stream": "stdout",
       "text": [
        " "
       ]
      },
      {
       "output_type": "stream",
       "stream": "stdout",
       "text": [
        "daly, "
       ]
      },
      {
       "output_type": "stream",
       "stream": "stdout",
       "text": [
        " "
       ]
      },
      {
       "output_type": "stream",
       "stream": "stdout",
       "text": [
        "dependency_natural, "
       ]
      },
      {
       "output_type": "stream",
       "stream": "stdout",
       "text": [
        " "
       ]
      },
      {
       "output_type": "stream",
       "stream": "stdout",
       "text": [
        "ecological_footprint, "
       ]
      },
      {
       "output_type": "stream",
       "stream": "stdout",
       "text": [
        " "
       ]
      },
      {
       "output_type": "stream",
       "stream": "stdout",
       "text": [
        "electrical_outages, "
       ]
      },
      {
       "output_type": "stream",
       "stream": "stdout",
       "text": [
        " "
       ]
      },
      {
       "output_type": "stream",
       "stream": "stdout",
       "text": [
        "energy_access, "
       ]
      },
      {
       "output_type": "stream",
       "stream": "stdout",
       "text": [
        " "
       ]
      },
      {
       "output_type": "stream",
       "stream": "stdout",
       "text": [
        "energy_sensit, "
       ]
      },
      {
       "output_type": "stream",
       "stream": "stdout",
       "text": [
        " "
       ]
      },
      {
       "output_type": "stream",
       "stream": "stdout",
       "text": [
        "enrollment, "
       ]
      },
      {
       "output_type": "stream",
       "stream": "stdout",
       "text": [
        " "
       ]
      },
      {
       "output_type": "stream",
       "stream": "stdout",
       "text": [
        "external, "
       ]
      },
      {
       "output_type": "stream",
       "stream": "stdout",
       "text": [
        " "
       ]
      },
      {
       "output_type": "stream",
       "stream": "stdout",
       "text": [
        "fertilizers, "
       ]
      },
      {
       "output_type": "stream",
       "stream": "stdout",
       "text": [
        " "
       ]
      },
      {
       "output_type": "stream",
       "stream": "stdout",
       "text": [
        "finan, "
       ]
      },
      {
       "output_type": "stream",
       "stream": "stdout",
       "text": [
        " "
       ]
      },
      {
       "output_type": "stream",
       "stream": "stdout",
       "text": [
        "fiscal, "
       ]
      },
      {
       "output_type": "stream",
       "stream": "stdout",
       "text": [
        " "
       ]
      },
      {
       "output_type": "stream",
       "stream": "stdout",
       "text": [
        "gdp, "
       ]
      },
      {
       "output_type": "stream",
       "stream": "stdout",
       "text": [
        " "
       ]
      },
      {
       "output_type": "stream",
       "stream": "stdout",
       "text": [
        "gov_spend, "
       ]
      },
      {
       "output_type": "stream",
       "stream": "stdout",
       "text": [
        " "
       ]
      },
      {
       "output_type": "stream",
       "stream": "stdout",
       "text": [
        "health_disease, "
       ]
      },
      {
       "output_type": "stream",
       "stream": "stdout",
       "text": [
        " "
       ]
      },
      {
       "output_type": "stream",
       "stream": "stdout",
       "text": [
        "imports, "
       ]
      },
      {
       "output_type": "stream",
       "stream": "stdout",
       "text": [
        " "
       ]
      },
      {
       "output_type": "stream",
       "stream": "stdout",
       "text": [
        "international_treaties, "
       ]
      },
      {
       "output_type": "stream",
       "stream": "stdout",
       "text": [
        " "
       ]
      },
      {
       "output_type": "stream",
       "stream": "stdout",
       "text": [
        "invest, "
       ]
      },
      {
       "output_type": "stream",
       "stream": "stdout",
       "text": [
        " "
       ]
      },
      {
       "output_type": "stream",
       "stream": "stdout",
       "text": [
        "irrigated, "
       ]
      },
      {
       "output_type": "stream",
       "stream": "stdout",
       "text": [
        " "
       ]
      },
      {
       "output_type": "stream",
       "stream": "stdout",
       "text": [
        "labor, "
       ]
      },
      {
       "output_type": "stream",
       "stream": "stdout",
       "text": [
        " "
       ]
      },
      {
       "output_type": "stream",
       "stream": "stdout",
       "text": [
        "life, "
       ]
      },
      {
       "output_type": "stream",
       "stream": "stdout",
       "text": [
        " "
       ]
      },
      {
       "output_type": "stream",
       "stream": "stdout",
       "text": [
        "machinery, "
       ]
      },
      {
       "output_type": "stream",
       "stream": "stdout",
       "text": [
        " "
       ]
      },
      {
       "output_type": "stream",
       "stream": "stdout",
       "text": [
        "malnutr, "
       ]
      },
      {
       "output_type": "stream",
       "stream": "stdout",
       "text": [
        " "
       ]
      },
      {
       "output_type": "stream",
       "stream": "stdout",
       "text": [
        "matern, "
       ]
      },
      {
       "output_type": "stream",
       "stream": "stdout",
       "text": [
        " "
       ]
      },
      {
       "output_type": "stream",
       "stream": "stdout",
       "text": [
        "mobiles, "
       ]
      },
      {
       "output_type": "stream",
       "stream": "stdout",
       "text": [
        " "
       ]
      },
      {
       "output_type": "stream",
       "stream": "stdout",
       "text": [
        "monetary, "
       ]
      },
      {
       "output_type": "stream",
       "stream": "stdout",
       "text": [
        " "
       ]
      },
      {
       "output_type": "stream",
       "stream": "stdout",
       "text": [
        "non_violence, "
       ]
      },
      {
       "output_type": "stream",
       "stream": "stdout",
       "text": [
        " "
       ]
      },
      {
       "output_type": "stream",
       "stream": "stdout",
       "text": [
        "nurses_mw, "
       ]
      },
      {
       "output_type": "stream",
       "stream": "stdout",
       "text": [
        " "
       ]
      },
      {
       "output_type": "stream",
       "stream": "stdout",
       "text": [
        "physicians, "
       ]
      },
      {
       "output_type": "stream",
       "stream": "stdout",
       "text": [
        " "
       ]
      },
      {
       "output_type": "stream",
       "stream": "stdout",
       "text": [
        "pop, "
       ]
      },
      {
       "output_type": "stream",
       "stream": "stdout",
       "text": [
        " "
       ]
      },
      {
       "output_type": "stream",
       "stream": "stdout",
       "text": [
        "protected_biomes, "
       ]
      },
      {
       "output_type": "stream",
       "stream": "stdout",
       "text": [
        " "
       ]
      },
      {
       "output_type": "stream",
       "stream": "stdout",
       "text": [
        "road_floods, "
       ]
      },
      {
       "output_type": "stream",
       "stream": "stdout",
       "text": [
        " "
       ]
      },
      {
       "output_type": "stream",
       "stream": "stdout",
       "text": [
        "road_paved, "
       ]
      },
      {
       "output_type": "stream",
       "stream": "stdout",
       "text": [
        " "
       ]
      },
      {
       "output_type": "stream",
       "stream": "stdout",
       "text": [
        "rule_of_law, "
       ]
      },
      {
       "output_type": "stream",
       "stream": "stdout",
       "text": [
        " "
       ]
      },
      {
       "output_type": "stream",
       "stream": "stdout",
       "text": [
        "rural_popn, "
       ]
      },
      {
       "output_type": "stream",
       "stream": "stdout",
       "text": [
        " "
       ]
      },
      {
       "output_type": "stream",
       "stream": "stdout",
       "text": [
        "sanit, "
       ]
      },
      {
       "output_type": "stream",
       "stream": "stdout",
       "text": [
        " "
       ]
      },
      {
       "output_type": "stream",
       "stream": "stdout",
       "text": [
        "slums, "
       ]
      },
      {
       "output_type": "stream",
       "stream": "stdout",
       "text": [
        " "
       ]
      },
      {
       "output_type": "stream",
       "stream": "stdout",
       "text": [
        "threatened_species, "
       ]
      },
      {
       "output_type": "stream",
       "stream": "stdout",
       "text": [
        " "
       ]
      },
      {
       "output_type": "stream",
       "stream": "stdout",
       "text": [
        "trade, "
       ]
      },
      {
       "output_type": "stream",
       "stream": "stdout",
       "text": [
        " "
       ]
      },
      {
       "output_type": "stream",
       "stream": "stdout",
       "text": [
        "trade_transport, "
       ]
      },
      {
       "output_type": "stream",
       "stream": "stdout",
       "text": [
        " "
       ]
      },
      {
       "output_type": "stream",
       "stream": "stdout",
       "text": [
        "urban_concentration, "
       ]
      },
      {
       "output_type": "stream",
       "stream": "stdout",
       "text": [
        " "
       ]
      },
      {
       "output_type": "stream",
       "stream": "stdout",
       "text": [
        "urban_excess_growth, "
       ]
      },
      {
       "output_type": "stream",
       "stream": "stdout",
       "text": [
        " "
       ]
      },
      {
       "output_type": "stream",
       "stream": "stdout",
       "text": [
        "urban_risk, "
       ]
      },
      {
       "output_type": "stream",
       "stream": "stdout",
       "text": [
        " "
       ]
      },
      {
       "output_type": "stream",
       "stream": "stdout",
       "text": [
        "voice_accountability, "
       ]
      },
      {
       "output_type": "stream",
       "stream": "stdout",
       "text": [
        " "
       ]
      },
      {
       "output_type": "stream",
       "stream": "stdout",
       "text": [
        "water_access, "
       ]
      },
      {
       "output_type": "stream",
       "stream": "stdout",
       "text": [
        " "
       ]
      },
      {
       "output_type": "stream",
       "stream": "stdout",
       "text": [
        "water_disease, "
       ]
      },
      {
       "output_type": "stream",
       "stream": "stdout",
       "text": [
        " "
       ]
      },
      {
       "output_type": "stream",
       "stream": "stdout",
       "text": [
        "water_use, "
       ]
      },
      {
       "output_type": "stream",
       "stream": "stdout",
       "text": [
        " "
       ]
      },
      {
       "output_type": "stream",
       "stream": "stdout",
       "text": [
        "yield_cv, "
       ]
      },
      {
       "output_type": "stream",
       "stream": "stdout",
       "text": [
        " "
       ]
      },
      {
       "output_type": "stream",
       "stream": "stdout",
       "text": [
        "yld_proj, "
       ]
      },
      {
       "output_type": "stream",
       "stream": "stdout",
       "text": [
        "\n"
       ]
      }
     ],
     "prompt_number": 251
    },
    {
     "cell_type": "code",
     "collapsed": false,
     "input": [
      "raw0.axes"
     ],
     "language": "python",
     "metadata": {},
     "outputs": [
      {
       "output_type": "pyout",
       "prompt_number": 255,
       "text": [
        "[Index([template, biome_threat, business, coast_area, coast_popn,\n",
        "       corruption, d-Ppt, d-Temp, daly, dependency_natural,\n",
        "       ecological_footprint, electrical_outages, energy_access,\n",
        "       energy_sensit, enrollment, external, fertilizers, finan, fiscal,\n",
        "       gdp, gov_spend, health_disease, imports, international_treaties,\n",
        "       invest, irrigated, labor, life, machinery, malnutr, matern, mobiles,\n",
        "       monetary, non_violence, nurses_mw, physicians, pop,\n",
        "       protected_biomes, road_floods, road_paved, rule_of_law, rural_popn,\n",
        "       sanit, slums, threatened_species, trade, trade_transport,\n",
        "       urban_concentration, urban_excess_growth, urban_risk,\n",
        "       voice_accountability, water_access, water_disease, water_use,\n",
        "       yield_cv, yld_proj], dtype=object),\n",
        " Index([AFG, ALB, DZA, AND, AGO, ATG, ARG, ARM, AUS, AUT, AZE, BHS, BHR,\n",
        "       BGD, BRB, BLR, BEL, BLZ, BEN, BTN, BOL, BIH, BWA, BRA, BRN, BGR,\n",
        "       BFA, BDI, KHM, CMR, CAN, CPV, CAF, TCD, CHL, CHN, COL, COM, COG,\n",
        "       COD, CRI, CIV, HRV, CUB, CYP, CZE, DNK, DJI, DMA, DOM, ECU, EGY,\n",
        "       SLV, GNQ, ERI, EST, ETH, FJI, FIN, FRA, GAB, GMB, GEO, DEU, GHA,\n",
        "       GRC, GRD, GTM, GIN, GNB, GUY, HTI, HND, HUN, ISL, IND, IDN, IRN,\n",
        "       IRQ, IRL, ISR, ITA, JAM, JPN, JOR, KAZ, KEN, KIR, PRK, KOR, KWT,\n",
        "       KGZ, LAO, LVA, LBN, LSO, LBR, LBY, LIE, LTU, LUX, MDG, MWI, MYS,\n",
        "       MDV, MLI, MLT, MHL, MRT, MUS, MEX, FSM, MDA, MCO, MKD, MNG, MNE,\n",
        "       MAR, MOZ, MMR, NAM, NRU, NPL, NLD, NZL, NIC, NER, NGA, NOR, OMN,\n",
        "       PAK, PLW, PAN, PNG, PRY, PER, PHL, POL, PRT, QAT, ROU, RUS, RWA,\n",
        "       KNA, LCA, VCT, WSM, SMR, STP, SAU, SEN, SRB, SYC, SLE, SGP, SVK,\n",
        "       SVN, SLB, SOM, ZAF, ESP, LKA, SDN, SUR, SWZ, SWE, CHE, SYR, TJK,\n",
        "       TZA, THA, TLS, TGO, TON, TTO, TUN, TUR, TKM, TUV, UGA, UKR, ARE,\n",
        "       GBR, USA, URY, UZB, VUT, VEN, VNM, YEM, ZMB, ZWE], dtype=object),\n",
        " Index([ISO3, Name, 1995, 1996, 1997, 1998, 1999, 2000, 2001, 2002, 2003,\n",
        "       2004, 2005, 2006, 2007, 2008, 2009, 2010, 2011], dtype=object)]"
       ]
      }
     ],
     "prompt_number": 255
    },
    {
     "cell_type": "markdown",
     "metadata": {},
     "source": [
      "#2- Raw0 to Raw changes\n",
      "\n",
      "Find a way to record changes, so that they can be latter pulled up.\n",
      "\n",
      "Use a copy of *Raw0* Panel as template, and places narrative of changes there."
     ]
    },
    {
     "cell_type": "code",
     "collapsed": false,
     "input": [
      "def data_change(measure,year,country,newdata,message=''):\n",
      "    \"\"\"\n",
      "    Make the changes that make raw0 into raw\n",
      "    Changes are documentes in Panel raw_changes\n",
      "\n",
      "    example: data_change('daly','1995','ESP',5,message='test')\n",
      "    \n",
      "    \"\"\"\n",
      "    \n",
      "    global raw\n",
      "    global raw_changes\n",
      "    from datetime import datetime\n",
      "    import getpass\n",
      "    \n",
      "    if 'raw' not in globals():\n",
      "        print \"Raw Panel desn't exist, creating it from raw0\"\n",
      "        raw=raw0\n",
      "        \n",
      "    if 'raw_changes' not in globals():\n",
      "        print \"Raw_changes Panel desn't exist, creating it from raw0\"\n",
      "        empty=np.empty((raw.items.size,raw.major_axis.size,raw.minor_axis.size),dtype=object)\n",
      "        empty.fill(\"\")\n",
      "        raw_changes=pd.Panel(data=empty, items=raw0.items,major_axis=raw0.major_axis,minor_axis=raw0.minor_axis,dtype=str)\n",
      "        \n",
      "    olddata=raw0[measure][year][country]\n",
      "    \n",
      "    message += '-> Changed from '+ `olddata`+ ' to '+ `newdata`+ ' on '+ `datetime.today().ctime()`+\\\n",
      "        ' by '+ `getpass.getuser()`\n",
      "    print 'raw0[\\''+str(measure)+'\\'][\\''+str(year)+'\\'][\\''+str(country)+'\\']','CHANGE MESSAGE: ',message\n",
      "    raw_changes[measure][year][country]=message\n",
      "    raw[measure][year][country]=newdata\n",
      "    "
     ],
     "language": "python",
     "metadata": {},
     "outputs": [],
     "prompt_number": 492
    },
    {
     "cell_type": "code",
     "collapsed": false,
     "input": [
      "data_change('daly','1995','ESP',5,message='test')"
     ],
     "language": "python",
     "metadata": {},
     "outputs": [
      {
       "output_type": "stream",
       "stream": "stdout",
       "text": [
        "raw0['daly']['1995']['ESP'] CHANGE MESSAGE:  test-> Changed from 5 to 5 on 'Tue Nov 13 16:18:45 2012' by 'brunosan'\n"
       ]
      }
     ],
     "prompt_number": 493
    },
    {
     "cell_type": "code",
     "collapsed": false,
     "input": [
      "raw_changes['daly']['1995']['ESP']"
     ],
     "language": "python",
     "metadata": {},
     "outputs": [
      {
       "output_type": "pyout",
       "prompt_number": 494,
       "text": [
        "\"test-> Changed from 5 to 5 on 'Tue Nov 13 16:18:45 2012' by 'brunosan'\""
       ]
      }
     ],
     "prompt_number": 494
    },
    {
     "cell_type": "code",
     "collapsed": false,
     "input": [
      "raw['daly']['1995']['ESP']"
     ],
     "language": "python",
     "metadata": {},
     "outputs": [
      {
       "output_type": "pyout",
       "prompt_number": 495,
       "text": [
        "5"
       ]
      }
     ],
     "prompt_number": 495
    },
    {
     "cell_type": "markdown",
     "metadata": {},
     "source": [
      "#3- Interpolate values\n",
      "Take the *raw* values and create *input*"
     ]
    },
    {
     "cell_type": "code",
     "collapsed": false,
     "input": [
      "if 'raw' not in globals():\n",
      "        print \"Raw Panel desn't exist, creating it from raw0\"\n",
      "        raw=raw0"
     ],
     "language": "python",
     "metadata": {},
     "outputs": [],
     "prompt_number": 496
    },
    {
     "cell_type": "code",
     "collapsed": false,
     "input": [
      "empty=np.empty((raw.items.size,raw.major_axis.size,raw.minor_axis.size),dtype=float)\n",
      "empty[:]=np.NAN\n",
      "inputs=pd.Panel(data=empty, items=raw0.items,major_axis=raw0.major_axis, \\\n",
      "minor_axis=raw0.minor_axis,dtype=str)"
     ],
     "language": "python",
     "metadata": {},
     "outputs": [],
     "prompt_number": 500
    },
    {
     "cell_type": "code",
     "collapsed": false,
     "input": [],
     "language": "python",
     "metadata": {},
     "outputs": []
    }
   ],
   "metadata": {}
  }
 ]
}