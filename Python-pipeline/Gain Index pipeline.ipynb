{
 "metadata": {
  "name": "Gain Index pipeline"
 },
 "nbformat": 3,
 "nbformat_minor": 0,
 "worksheets": [
  {
   "cells": [
    {
     "cell_type": "markdown",
     "metadata": {},
     "source": [
      "#0- Importing the Gain Index resources and basic usage\n",
      "First read the Gain file"
     ]
    },
    {
     "cell_type": "code",
     "collapsed": false,
     "input": [
      "import numpy as np\n",
      "import pandas as pd\n",
      "gain= pd.read_table('../resources-fix//gain/gain.csv',sep=',')\n",
      "gain_delta= pd.read_table('../resources-fix/gain/gain_delta.csv',sep=',')\n"
     ],
     "language": "python",
     "metadata": {},
     "outputs": [],
     "prompt_number": 13
    },
    {
     "cell_type": "code",
     "collapsed": false,
     "input": [
      "gain_delta.columns"
     ],
     "language": "python",
     "metadata": {},
     "outputs": [
      {
       "output_type": "pyout",
       "prompt_number": 14,
       "text": [
        "Index([ISO3, Name, 1995, 1996, 1997, 1998, 1999, 2000, 2001, 2002, 2003,\n",
        "       2004, 2005, 2006, 2007, 2008, 2009, 2010, 2011], dtype=object)"
       ]
      }
     ],
     "prompt_number": 14
    },
    {
     "cell_type": "code",
     "collapsed": false,
     "input": [
      "gain_delta.columns[3:]"
     ],
     "language": "python",
     "metadata": {},
     "outputs": [
      {
       "output_type": "pyout",
       "prompt_number": 15,
       "text": [
        "Index([1996, 1997, 1998, 1999, 2000, 2001, 2002, 2003, 2004, 2005, 2006,\n",
        "       2007, 2008, 2009, 2010, 2011], dtype=object)"
       ]
      }
     ],
     "prompt_number": 15
    },
    {
     "cell_type": "markdown",
     "metadata": {},
     "source": [
      "Name the Indices [Rows] using the ISO3"
     ]
    },
    {
     "cell_type": "code",
     "collapsed": false,
     "input": [
      "gain_delta.index=gain_delta['ISO3']\n",
      "gain.index=gain['ISO3']"
     ],
     "language": "python",
     "metadata": {},
     "outputs": [],
     "prompt_number": 17
    },
    {
     "cell_type": "code",
     "collapsed": false,
     "input": [
      "gain_delta['1995']['ESP']"
     ],
     "language": "python",
     "metadata": {},
     "outputs": [
      {
       "output_type": "pyout",
       "prompt_number": 61,
       "text": [
        "1.5438469669999999"
       ]
      }
     ],
     "prompt_number": 61
    },
    {
     "cell_type": "code",
     "collapsed": false,
     "input": [
      "#count number of results for a year\n",
      "np.isfinite(gain_delta['1995']).count()"
     ],
     "language": "python",
     "metadata": {},
     "outputs": [
      {
       "output_type": "pyout",
       "prompt_number": 20,
       "text": [
        "192"
       ]
      }
     ],
     "prompt_number": 20
    },
    {
     "cell_type": "markdown",
     "metadata": {},
     "source": [
      "###3D structure of the Gain Cube\n",
      "\n",
      "* **Items** is z\n",
      "* **major_axis** is rows\n",
      "* **minor_axis** is columns"
     ]
    },
    {
     "cell_type": "code",
     "collapsed": false,
     "input": [
      "gain.index=gain_delta.index"
     ],
     "language": "python",
     "metadata": {},
     "outputs": [],
     "prompt_number": 71
    },
    {
     "cell_type": "code",
     "collapsed": false,
     "input": [
      "w=pd.Panel({'gain':gain,'gain_delta':gain_delta})"
     ],
     "language": "python",
     "metadata": {},
     "outputs": [],
     "prompt_number": 76
    },
    {
     "cell_type": "code",
     "collapsed": false,
     "input": [
      "w"
     ],
     "language": "python",
     "metadata": {},
     "outputs": [
      {
       "output_type": "pyout",
       "prompt_number": 77,
       "text": [
        "<class 'pandas.core.panel.Panel'>\n",
        "Dimensions: 2 (items) x 192 (major) x 19 (minor)\n",
        "Items: gain to gain_delta\n",
        "Major axis: AFG to ZWE\n",
        "Minor axis: ISO3 to 2011"
       ]
      }
     ],
     "prompt_number": 77
    },
    {
     "cell_type": "code",
     "collapsed": false,
     "input": [
      "#adding a slice \n",
      "w['new']=gain"
     ],
     "language": "python",
     "metadata": {},
     "outputs": [],
     "prompt_number": 99
    },
    {
     "cell_type": "code",
     "collapsed": false,
     "input": [
      "w"
     ],
     "language": "python",
     "metadata": {},
     "outputs": [
      {
       "output_type": "pyout",
       "prompt_number": 100,
       "text": [
        "<class 'pandas.core.panel.Panel'>\n",
        "Dimensions: 3 (items) x 192 (major) x 19 (minor)\n",
        "Items: gain to new\n",
        "Major axis: AFG to ZWE\n",
        "Minor axis: ISO3 to 2011"
       ]
      }
     ],
     "prompt_number": 100
    },
    {
     "cell_type": "code",
     "collapsed": false,
     "input": [
      "w['gain']['1995']['ESP']"
     ],
     "language": "python",
     "metadata": {},
     "outputs": [
      {
       "output_type": "pyout",
       "prompt_number": 83,
       "text": [
        "68.93444647"
       ]
      }
     ],
     "prompt_number": 83
    },
    {
     "cell_type": "markdown",
     "metadata": {},
     "source": [
      "#1- Import Raw0 \n",
      "**Import all raw0 measures from the official csv**\n",
      "\n",
      "I'm using the gain output as the template for the rows (countries) and columns (years)\n",
      "I'm also using `in2csv` to standarize the csv. the input files gives probles, I think cause they are encoded in Mac Roman."
     ]
    },
    {
     "cell_type": "code",
     "collapsed": false,
     "input": [
      "import os\n",
      "\n",
      "errors=[]\n",
      "#Create a Panel (like a 3D Excel sheet)\n",
      "#take the gain as the template of rows and columns, z is measure\n",
      "template=pd.read_table('../resources/gain/gain.csv', sep=',')\n",
      "template.index=template['ISO3']\n",
      "raw0=pd.Panel({'template':template}) \n",
      "print 'Adding Raw0 data:',\n",
      "for measure in os.listdir('../resources/indicators/'):\n",
      "    filein='../resources/indicators/'+measure+'/raw0.csv'\n",
      "    filein_fix='../resources-fix/indicators/'+measure+'/raw0.csv'\n",
      "    print ', ',measure,':',\n",
      "    if os.path.exists(filein):\n",
      "        if  not os.path.exists(filein_fix):\n",
      "            !in2csv -e macroman $filein > $filein_fix\n",
      "            print '\u2260',\n",
      "    try:\n",
      "        measure_data= pd.read_table(filein_fix,sep=',')\n",
      "        print '\u221a',\n",
      "    except:\n",
      "        print \"\u00d8\",\n",
      "        errors.append(measure)\n",
      "    \n",
      "    measure_data.index=measure_data['ISO3']\n",
      "    raw0[measure]=measure_data\n",
      "print '.\\n'    \n",
      "print \"***ERRORS: Cannot read Raw0 files for:\"\n",
      "for e in errors: print e"
     ],
     "language": "python",
     "metadata": {},
     "outputs": [
      {
       "output_type": "stream",
       "stream": "stdout",
       "text": [
        "Adding Raw0 data: ,  biome_threat : \u221a ,  business : \u221a ,  coast_area : \u221a ,  coast_popn : \u221a ,  corruption : "
       ]
      },
      {
       "output_type": "stream",
       "stream": "stdout",
       "text": [
        "\u221a ,  d-Ppt : \u221a ,  d-Temp : \u221a ,  daly : "
       ]
      },
      {
       "output_type": "stream",
       "stream": "stdout",
       "text": [
        "\u221a ,  dependency_natural : \u221a ,  ecological_footprint : \u221a ,  electrical_outages : \u221a ,  energy_access : \u221a ,  energy_sensit : "
       ]
      },
      {
       "output_type": "stream",
       "stream": "stdout",
       "text": [
        "\u221a ,  enrollment : \u221a ,  external : \u221a ,  fertilizers : \u221a ,  finan : \u221a ,  fiscal : "
       ]
      },
      {
       "output_type": "stream",
       "stream": "stdout",
       "text": [
        "\u221a ,  food_capacity : \u00d8 ,  gdp : \u221a ,  gov_spend : \u221a ,  health_disease : \u221a ,  imports : "
       ]
      },
      {
       "output_type": "stream",
       "stream": "stdout",
       "text": [
        "\u221a ,  international_treaties : \u221a ,  invest : \u221a ,  irrigated : \u221a ,  labor : \u221a "
       ]
      },
      {
       "output_type": "stream",
       "stream": "stdout",
       "text": [
        ",  life : \u221a ,  machinery : \u221a ,  malnutr : \u221a ,  matern : \u221a ,  mobiles : \u221a ,  monetary : "
       ]
      },
      {
       "output_type": "stream",
       "stream": "stdout",
       "text": [
        "\u221a ,  non_violence : \u221a ,  nurses_mw : \u221a ,  physicians : "
       ]
      },
      {
       "output_type": "stream",
       "stream": "stdout",
       "text": [
        "\u221a ,  pop : \u221a ,  protected_biomes : \u221a ,  road_floods : \u221a ,  road_paved : \u221a ,  rule_of_law : "
       ]
      },
      {
       "output_type": "stream",
       "stream": "stdout",
       "text": [
        "\u221a ,  rural_popn : \u221a ,  sanit : \u221a ,  slums : \u221a ,  staff : \u00d8 ,  threatened_species : "
       ]
      },
      {
       "output_type": "stream",
       "stream": "stdout",
       "text": [
        "\u221a ,  trade : \u221a ,  trade_transport : \u221a ,  urban_concentration : \u221a "
       ]
      },
      {
       "output_type": "stream",
       "stream": "stdout",
       "text": [
        ",  urban_excess_growth : \u221a ,  urban_risk : \u221a ,  voice_accountability : \u221a ,  water_access : \u221a ,  water_disease : "
       ]
      },
      {
       "output_type": "stream",
       "stream": "stdout",
       "text": [
        "\u221a ,  water_use : \u221a ,  yield_cv : \u221a ,  yld_proj : \u221a .\n",
        "\n",
        "ERRORS: Cannot read Raw0 files for:\n",
        "food_capacity\n",
        "staff\n"
       ]
      }
     ],
     "prompt_number": 66
    },
    {
     "cell_type": "code",
     "collapsed": false,
     "input": [
      "raw0.axes"
     ],
     "language": "python",
     "metadata": {},
     "outputs": [
      {
       "output_type": "pyout",
       "prompt_number": 67,
       "text": [
        "[Index([template, biome_threat, business, coast_area, coast_popn,\n",
        "       corruption, d-Ppt, d-Temp, daly, dependency_natural,\n",
        "       ecological_footprint, electrical_outages, energy_access,\n",
        "       energy_sensit, enrollment, external, fertilizers, finan, fiscal,\n",
        "       food_capacity, gdp, gov_spend, health_disease, imports,\n",
        "       international_treaties, invest, irrigated, labor, life, machinery,\n",
        "       malnutr, matern, mobiles, monetary, non_violence, nurses_mw,\n",
        "       physicians, pop, protected_biomes, road_floods, road_paved,\n",
        "       rule_of_law, rural_popn, sanit, slums, staff, threatened_species,\n",
        "       trade, trade_transport, urban_concentration, urban_excess_growth,\n",
        "       urban_risk, voice_accountability, water_access, water_disease,\n",
        "       water_use, yield_cv, yld_proj], dtype=object),\n",
        " Index([AFG, ALB, DZA, AND, AGO, ATG, ARG, ARM, AUS, AUT, AZE, BHS, BHR,\n",
        "       BGD, BRB, BLR, BEL, BLZ, BEN, BTN, BOL, BIH, BWA, BRA, BRN, BGR,\n",
        "       BFA, BDI, KHM, CMR, CAN, CPV, CAF, TCD, CHL, CHN, COL, COM, COG,\n",
        "       COD, CRI, CIV, HRV, CUB, CYP, CZE, DNK, DJI, DMA, DOM, ECU, EGY,\n",
        "       SLV, GNQ, ERI, EST, ETH, FJI, FIN, FRA, GAB, GMB, GEO, DEU, GHA,\n",
        "       GRC, GRD, GTM, GIN, GNB, GUY, HTI, HND, HUN, ISL, IND, IDN, IRN,\n",
        "       IRQ, IRL, ISR, ITA, JAM, JPN, JOR, KAZ, KEN, KIR, PRK, KOR, KWT,\n",
        "       KGZ, LAO, LVA, LBN, LSO, LBR, LBY, LIE, LTU, LUX, MDG, MWI, MYS,\n",
        "       MDV, MLI, MLT, MHL, MRT, MUS, MEX, FSM, MDA, MCO, MKD, MNG, MNE,\n",
        "       MAR, MOZ, MMR, NAM, NRU, NPL, NLD, NZL, NIC, NER, NGA, NOR, OMN,\n",
        "       PAK, PLW, PAN, PNG, PRY, PER, PHL, POL, PRT, QAT, ROU, RUS, RWA,\n",
        "       KNA, LCA, VCT, WSM, SMR, STP, SAU, SEN, SRB, SYC, SLE, SGP, SVK,\n",
        "       SVN, SLB, SOM, ZAF, ESP, LKA, SDN, SUR, SWZ, SWE, CHE, SYR, TJK,\n",
        "       TZA, THA, TLS, TGO, TON, TTO, TUN, TUR, TKM, TUV, UGA, UKR, ARE,\n",
        "       GBR, USA, URY, UZB, VUT, VEN, VNM, YEM, ZMB, ZWE], dtype=object),\n",
        " Index([ISO3, Name, 1995, 1996, 1997, 1998, 1999, 2000, 2001, 2002, 2003,\n",
        "       2004, 2005, 2006, 2007, 2008, 2009, 2010, 2011], dtype=object)]"
       ]
      }
     ],
     "prompt_number": 67
    },
    {
     "cell_type": "markdown",
     "metadata": {},
     "source": [
      "#2- Raw0 -> Raw: Manual changes\n",
      "\n",
      "Find a way to record changes, so that they can be latter pulled up.\n",
      "\n",
      "Use a copy of *Raw0* Panel as template, and places narrative of changes there."
     ]
    },
    {
     "cell_type": "code",
     "collapsed": false,
     "input": [
      "def data_change(measure,year,country,newdata,message=''):\n",
      "    \"\"\"\n",
      "    Make the changes that make raw0 into raw\n",
      "    Changes are documentes in Panel raw_changes\n",
      "\n",
      "    example: data_change('daly','1995','ESP',5,message='test')\n",
      "    \n",
      "    \"\"\"\n",
      "    \n",
      "    global raw\n",
      "    global raw_changes\n",
      "    from datetime import datetime\n",
      "    import getpass\n",
      "    \n",
      "    if 'raw' not in globals():\n",
      "        print \"Raw Panel desn't exist, creating it from raw0\"\n",
      "        raw=raw0\n",
      "        \n",
      "    if 'raw_changes' not in globals():\n",
      "        print \"Raw_changes Panel desn't exist, creating it from raw0\"\n",
      "        empty=np.empty((raw.items.size,raw.major_axis.size,raw.minor_axis.size),dtype=object)\n",
      "        empty.fill(\"\")\n",
      "        raw_changes=pd.Panel(data=empty, items=raw0.items,major_axis=raw0.major_axis,minor_axis=raw0.minor_axis,dtype=str)\n",
      "        \n",
      "    olddata=raw0[measure][year][country]\n",
      "    \n",
      "    message += '-> Changed from '+ `olddata`+ ' to '+ `newdata`+ ' on '+ `datetime.today().ctime()`+\\\n",
      "        ' by '+ `getpass.getuser()`\n",
      "    print 'raw0[\\''+str(measure)+'\\'][\\''+str(year)+'\\'][\\''+str(country)+'\\']','CHANGE MESSAGE: ',message\n",
      "    raw_changes[measure][year][country]=message\n",
      "    raw[measure][year][country]=newdata\n",
      "    "
     ],
     "language": "python",
     "metadata": {},
     "outputs": [],
     "prompt_number": 492
    },
    {
     "cell_type": "code",
     "collapsed": false,
     "input": [
      "data_change('daly','1995','ESP',5,message='test')"
     ],
     "language": "python",
     "metadata": {},
     "outputs": [
      {
       "output_type": "stream",
       "stream": "stdout",
       "text": [
        "raw0['daly']['1995']['ESP'] CHANGE MESSAGE:  test-> Changed from 5 to 5 on 'Tue Nov 13 16:18:45 2012' by 'brunosan'\n"
       ]
      }
     ],
     "prompt_number": 493
    },
    {
     "cell_type": "code",
     "collapsed": false,
     "input": [
      "raw_changes['daly']['1995']['ESP']"
     ],
     "language": "python",
     "metadata": {},
     "outputs": [
      {
       "output_type": "pyout",
       "prompt_number": 494,
       "text": [
        "\"test-> Changed from 5 to 5 on 'Tue Nov 13 16:18:45 2012' by 'brunosan'\""
       ]
      }
     ],
     "prompt_number": 494
    },
    {
     "cell_type": "code",
     "collapsed": false,
     "input": [
      "raw['daly']['1995']['ESP']"
     ],
     "language": "python",
     "metadata": {},
     "outputs": [
      {
       "output_type": "pyout",
       "prompt_number": 495,
       "text": [
        "5"
       ]
      }
     ],
     "prompt_number": 495
    },
    {
     "cell_type": "markdown",
     "metadata": {},
     "source": [
      "#3- Raw->Input: Interpolate values\n",
      "Take the *raw* values and create *input*"
     ]
    },
    {
     "cell_type": "code",
     "collapsed": false,
     "input": [
      "if 'raw' not in globals():\n",
      "        print \"Raw Panel desn't exist, creating it from raw0\"\n",
      "        raw=raw0"
     ],
     "language": "python",
     "metadata": {},
     "outputs": [],
     "prompt_number": 496
    },
    {
     "cell_type": "code",
     "collapsed": false,
     "input": [
      "empty=np.empty((raw.items.size,raw.major_axis.size,raw.minor_axis.size),dtype=float)\n",
      "empty[:]=np.NAN\n",
      "inputs=pd.Panel(data=empty, items=raw0.items,major_axis=raw0.major_axis, \\\n",
      "minor_axis=raw0.minor_axis,dtype=str)"
     ],
     "language": "python",
     "metadata": {},
     "outputs": [],
     "prompt_number": 500
    },
    {
     "cell_type": "markdown",
     "metadata": {},
     "source": [
      "#4- Input -> Score : Score Input Values\n",
      "Take the *Input* values and create *score* using a thresholded linear conversion"
     ]
    },
    {
     "cell_type": "code",
     "collapsed": false,
     "input": [],
     "language": "python",
     "metadata": {},
     "outputs": [],
     "prompt_number": 20
    },
    {
     "cell_type": "markdown",
     "metadata": {},
     "source": [
      "#5- Score to Gain: Aggregate values\n"
     ]
    },
    {
     "cell_type": "code",
     "collapsed": false,
     "input": [],
     "language": "python",
     "metadata": {},
     "outputs": []
    }
   ],
   "metadata": {}
  }
 ]
}