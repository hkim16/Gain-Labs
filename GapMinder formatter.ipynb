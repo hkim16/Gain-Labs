{
 "metadata": {
  "name": "GapMinder formatter"
 },
 "nbformat": 3,
 "nbformat_minor": 0,
 "worksheets": [
  {
   "cells": [
    {
     "cell_type": "markdown",
     "metadata": {},
     "source": [
      "The Gain GapMinder tool to explore the Index is hosted in Google Docs, and it uses a specially formatted csv file. This notebook makes that conversion."
     ]
    },
    {
     "cell_type": "code",
     "collapsed": false,
     "input": [
      "import pandas as pd\n",
      "import os\n",
      "#Create a Panel (like a 3D Excel sheet)\n",
      "#take the gain as the template of rows and columns, z is measure\n",
      "gain=pd.read_table('resources/gain/gain.csv', sep=',')\n",
      "gain.index=gain['ISO3']\n",
      "scores=pd.Panel({'gain':gain})\n",
      "folder='resources/indicators/'\n",
      "\n",
      "\n",
      "print 'Adding score data from Partials: '\n",
      "folder='resources-fix/'\n",
      "print 'Adding score partials data: ',\n",
      "for partial in ['gain','readiness','vulnerability']:\n",
      "    for measure in os.listdir(folder+partial+'/'):\n",
      "        measure=measure.split('.')[0]\n",
      "        filein=folder+partial+'/'+measure+'.csv'\n",
      "        if os.path.exists(filein):\n",
      "            print measure+', ',\n",
      "            #Standarize csv before import, to avoid errors\n",
      "            #filein_fix=folder+partial+'/'+measure+'-fix.csv'\n",
      "            #!in2csv -e macroman $filein > $filein_fix\n",
      "            #!mv $filein_fix $filein\n",
      "            measure_data= pd.read_table(filein,sep=',')\n",
      "            measure_data.index=measure_data['ISO3']\n",
      "            scores[measure]=measure_data\n",
      "print \"\"\n",
      "print 'Adding score data from Indicators: ',\n",
      "folder='resources-fix/indicators/'\n",
      "for measure in os.listdir(folder):\n",
      "    filein=folder+measure+'/score.csv'\n",
      "    if os.path.exists(filein):\n",
      "        print measure+', ',\n",
      "        filein_fix=folder+measure+'-fix.csv'\n",
      "        #!in2csv -e macroman $filein > $filein_fix\n",
      "        #!mv $filein_fix $filein\n",
      "        measure_data= pd.read_table(filein,sep=',')\n",
      "        measure_data.index=measure_data['ISO3']\n",
      "        scores[measure]=measure_data\n",
      "print \"\"\n",
      "print \"Done\""
     ],
     "language": "python",
     "metadata": {},
     "outputs": [
      {
       "output_type": "stream",
       "stream": "stdout",
       "text": [
        "Adding score data from Partials: \n",
        "Adding score partials data:  gain,  gain_delta,  economic,  governance,  readiness,  "
       ]
      },
      {
       "output_type": "stream",
       "stream": "stdout",
       "text": [
        "readiness_delta,  social,  capacity,  "
       ]
      },
      {
       "output_type": "stream",
       "stream": "stdout",
       "text": [
        "ecosystems,  exposure,  food,  habitat,  "
       ]
      },
      {
       "output_type": "stream",
       "stream": "stdout",
       "text": [
        "health,  infrastructure,  sensitivity,  vulnerability,  "
       ]
      },
      {
       "output_type": "stream",
       "stream": "stdout",
       "text": [
        "vulnerability_delta,  water,  \n",
        "Adding score data from Indicators:  biome_threat,  business,  coast_area,  coast_popn,  "
       ]
      },
      {
       "output_type": "stream",
       "stream": "stdout",
       "text": [
        "corruption,  "
       ]
      },
      {
       "output_type": "stream",
       "stream": "stdout",
       "text": [
        "d-Ppt,  d-Temp,  daly,  dependency_natural,  ecological_footprint,  "
       ]
      },
      {
       "output_type": "stream",
       "stream": "stdout",
       "text": [
        "electrical_outages,  "
       ]
      },
      {
       "output_type": "stream",
       "stream": "stdout",
       "text": [
        "energy_access,  energy_sensit,  enrollment,  external,  "
       ]
      },
      {
       "output_type": "stream",
       "stream": "stdout",
       "text": [
        "fertilizers,  finan,  "
       ]
      },
      {
       "output_type": "stream",
       "stream": "stdout",
       "text": [
        "fiscal,  food_capacity,  "
       ]
      },
      {
       "output_type": "stream",
       "stream": "stdout",
       "text": [
        "gov_spend,  health_disease,  imports,  international_treaties,  invest,  "
       ]
      },
      {
       "output_type": "stream",
       "stream": "stdout",
       "text": [
        "irrigated,  labor,  life,  "
       ]
      },
      {
       "output_type": "stream",
       "stream": "stdout",
       "text": [
        "machinery,  malnutr,  "
       ]
      },
      {
       "output_type": "stream",
       "stream": "stdout",
       "text": [
        "matern,  mobiles,  monetary,  non_violence,  protected_biomes,  "
       ]
      },
      {
       "output_type": "stream",
       "stream": "stdout",
       "text": [
        "road_floods,  road_paved,  "
       ]
      },
      {
       "output_type": "stream",
       "stream": "stdout",
       "text": [
        "rule_of_law,  rural_popn,  "
       ]
      },
      {
       "output_type": "stream",
       "stream": "stdout",
       "text": [
        "sanit,  slums,  staff,  threatened_species,  trade,  trade_transport,  "
       ]
      },
      {
       "output_type": "stream",
       "stream": "stdout",
       "text": [
        "urban_concentration,  urban_excess_growth,  urban_risk,  "
       ]
      },
      {
       "output_type": "stream",
       "stream": "stdout",
       "text": [
        "voice_accountability,  water_access,  water_disease,  "
       ]
      },
      {
       "output_type": "stream",
       "stream": "stdout",
       "text": [
        "water_use,  yield_cv,  yld_proj,  \n",
        "done\n"
       ]
      }
     ],
     "prompt_number": 92
    },
    {
     "cell_type": "markdown",
     "metadata": {},
     "source": [
      "Format need to be\n",
      "\n",
      "Country - Year - Measures"
     ]
    },
    {
     "cell_type": "code",
     "collapsed": false,
     "input": [
      "import csv\n",
      "\n",
      "with open('gapminder.csv', 'wb') as test_file:\n",
      "    file_writer = csv.writer(test_file)\n",
      "    header=['Country','Year']\n",
      "    for measure in scores:\n",
      "            header.append(measure)\n",
      "    file_writer.writerow(header)\n",
      "    for country in scores.major_axis:\n",
      "        for year in scores.minor_axis[2:]:\n",
      "            line=[scores.ix[measure,country,1]]\n",
      "            line.append(year)\n",
      "            for measure in scores:\n",
      "                line.append(scores.ix[measure,country,year])\n",
      "            file_writer.writerow(line)\n",
      "            \n",
      "    "
     ],
     "language": "python",
     "metadata": {},
     "outputs": [],
     "prompt_number": 97
    }
   ],
   "metadata": {}
  }
 ]
}