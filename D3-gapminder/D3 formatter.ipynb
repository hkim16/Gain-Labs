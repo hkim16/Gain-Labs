{
 "metadata": {
  "name": "D3 formatter"
 },
 "nbformat": 3,
 "nbformat_minor": 0,
 "worksheets": [
  {
   "cells": [
    {
     "cell_type": "markdown",
     "metadata": {},
     "source": [
      "#Slice and Dice Gain 2012\n",
      "\n",
      "Notebook to try to get Read Gain data fro 2012 and present table"
     ]
    },
    {
     "cell_type": "code",
     "collapsed": false,
     "input": [
      "import pandas as pd\n",
      "import os\n",
      "#Create a Panel (like a 3D Excel sheet)\n",
      "#take the gain as the template of rows and columns, z is measure\n",
      "gain=pd.read_table('resources/gain/gain.csv', sep=',')\n",
      "gain.index=gain['ISO3']\n",
      "scores=pd.Panel({'gain':gain})\n",
      "folder='resources/indicators/'\n",
      "\n",
      "\n",
      "print 'Adding score data from Partials: '\n",
      "folder='resources-fix/'\n",
      "print 'Adding score partials data: ',\n",
      "for partial in ['gain','readiness','vulnerability']:\n",
      "    for measure in os.listdir(folder+partial+'/'):\n",
      "        measure=measure.split('.')[0]\n",
      "        filein=folder+partial+'/'+measure+'.csv'\n",
      "        if os.path.exists(filein):\n",
      "            print measure+', ',\n",
      "            #Standarize csv before import, to avoid errors\n",
      "            #filein_fix=folder+partial+'/'+measure+'-fix.csv'\n",
      "            #!in2csv -e macroman $filein > $filein_fix\n",
      "            #!mv $filein_fix $filein\n",
      "            measure_data= pd.read_table(filein,sep=',')\n",
      "            measure_data.index=measure_data['ISO3']\n",
      "            scores[measure]=measure_data\n",
      "print \"\"\n",
      "print 'Adding score data from Indicators: ',\n",
      "folder='resources-fix/indicators/'\n",
      "for measure in os.listdir(folder):\n",
      "    filein=folder+measure+'/score.csv'\n",
      "    if os.path.exists(filein):\n",
      "        print measure+', ',\n",
      "        filein_fix=folder+measure+'-fix.csv'\n",
      "        #!in2csv -e macroman $filein > $filein_fix\n",
      "        #!mv $filein_fix $filein\n",
      "        measure_data= pd.read_table(filein,sep=',')\n",
      "        measure_data.index=measure_data['ISO3']\n",
      "        scores[measure]=measure_data\n",
      "print \"\"\n",
      "print \"Done\""
     ],
     "language": "python",
     "metadata": {},
     "outputs": [
      {
       "output_type": "stream",
       "stream": "stdout",
       "text": [
        "Adding score data from Partials: \n",
        "Adding score partials data:  gain,  gain_delta,  economic,  governance,  readiness,  readiness_delta,  "
       ]
      },
      {
       "output_type": "stream",
       "stream": "stdout",
       "text": [
        "social,  capacity,  ecosystems,  "
       ]
      },
      {
       "output_type": "stream",
       "stream": "stdout",
       "text": [
        "exposure,  "
       ]
      },
      {
       "output_type": "stream",
       "stream": "stdout",
       "text": [
        "food,  habitat,  health,  infrastructure,  sensitivity,  vulnerability,  vulnerability_delta,  water,  "
       ]
      },
      {
       "output_type": "stream",
       "stream": "stdout",
       "text": [
        "\n",
        "Adding score data from Indicators:  biome_threat,  business,  coast_area,  coast_popn,  "
       ]
      },
      {
       "output_type": "stream",
       "stream": "stdout",
       "text": [
        "corruption,  d-Ppt,  d-Temp,  "
       ]
      },
      {
       "output_type": "stream",
       "stream": "stdout",
       "text": [
        "daly,  dependency_natural,  ecological_footprint,  electrical_outages,  "
       ]
      },
      {
       "output_type": "stream",
       "stream": "stdout",
       "text": [
        "energy_access,  energy_sensit,  enrollment,  external,  fertilizers,  finan,  "
       ]
      },
      {
       "output_type": "stream",
       "stream": "stdout",
       "text": [
        "fiscal,  food_capacity,  gov_spend,  health_disease,  imports,  international_treaties,  "
       ]
      },
      {
       "output_type": "stream",
       "stream": "stdout",
       "text": [
        "invest,  irrigated,  labor,  "
       ]
      },
      {
       "output_type": "stream",
       "stream": "stdout",
       "text": [
        "life,  machinery,  malnutr,  "
       ]
      },
      {
       "output_type": "stream",
       "stream": "stdout",
       "text": [
        "matern,  mobiles,  "
       ]
      },
      {
       "output_type": "stream",
       "stream": "stdout",
       "text": [
        "monetary,  non_violence,  "
       ]
      },
      {
       "output_type": "stream",
       "stream": "stdout",
       "text": [
        "protected_biomes,  road_floods,  road_paved,  rule_of_law,  "
       ]
      },
      {
       "output_type": "stream",
       "stream": "stdout",
       "text": [
        "rural_popn,  sanit,  slums,  staff,  "
       ]
      },
      {
       "output_type": "stream",
       "stream": "stdout",
       "text": [
        "threatened_species,  trade,  trade_transport,  "
       ]
      },
      {
       "output_type": "stream",
       "stream": "stdout",
       "text": [
        "urban_concentration,  urban_excess_growth,  urban_risk,  voice_accountability,  "
       ]
      },
      {
       "output_type": "stream",
       "stream": "stdout",
       "text": [
        "water_access,  water_disease,  water_use,  yield_cv,  "
       ]
      },
      {
       "output_type": "stream",
       "stream": "stdout",
       "text": [
        "yld_proj,  \n",
        "Done\n"
       ]
      }
     ],
     "prompt_number": 1
    },
    {
     "cell_type": "code",
     "collapsed": false,
     "input": [],
     "language": "python",
     "metadata": {},
     "outputs": []
    }
   ],
   "metadata": {}
  }
 ]
}