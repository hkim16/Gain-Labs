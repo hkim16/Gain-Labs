{
 "metadata": {
  "name": "FDI, ODA, GAIN"
 },
 "nbformat": 3,
 "nbformat_minor": 0,
 "worksheets": [
  {
   "cells": [
    {
     "cell_type": "markdown",
     "metadata": {},
     "source": [
      "#Comapre Private and Public money inflows by Country\n",
      "\n",
      "First get the data for FDI and ODA"
     ]
    },
    {
     "cell_type": "code",
     "collapsed": false,
     "input": [
      "#load WB fetcher\n",
      "import WB_data as WB\n",
      "\n",
      "#Foreign direct investment, net (BoP, current US$)\n",
      "FDI_indicator=\"BN.KLT.DINV.CD\"\n",
      "FDI=WB.WB_data_grab(FDI_indicator)\n",
      "\n",
      "#Net official development assistance and official aid received (current US$)\n",
      "ODA_indicator=\"DT.ODA.ALLD.CD\"\n",
      "ODA=WB.WB_data_grab(ODA_indicator)\n"
     ],
     "language": "python",
     "metadata": {},
     "outputs": [
      {
       "output_type": "stream",
       "stream": "stdout",
       "text": [
        "Reading country metadata\n",
        "Using local cached file\n",
        "Reading country metadata"
       ]
      },
      {
       "output_type": "stream",
       "stream": "stdout",
       "text": [
        "\n",
        "Using local cached file\n"
       ]
      }
     ],
     "prompt_number": 1
    },
    {
     "cell_type": "markdown",
     "metadata": {},
     "source": [
      "Now Join them into a 3D panel"
     ]
    },
    {
     "cell_type": "code",
     "collapsed": false,
     "input": [
      "import pandas as pd\n",
      "\n",
      "joint=pd.Panel({'FDI':FDI,'ODA':ODA})\n",
      "joint['FDI']['2010'].index.values"
     ],
     "language": "python",
     "metadata": {},
     "outputs": [
      {
       "output_type": "pyout",
       "prompt_number": 27,
       "text": [
        "array([ARB, WLD, EAP, ECA, SAS, AND, ARE, AFG, ATG, ALB, ARM, AGO, ARG,\n",
        "       ASM, AUT, AUS, ABW, AZE, BIH, BRB, BGD, BEL, BFA, BGR, BHR, BDI,\n",
        "       BEN, BMU, BRN, BOL, BRA, BHS, BTN, BWA, BLR, BLZ, CAN, COD, CAF,\n",
        "       COG, CHE, CIV, CHL, CMR, CHN, COL, CRI, CUB, CPV, CUW, CYP, CZE,\n",
        "       DEU, DJI, DNK, DMA, DOM, DZA, ECU, EST, EGY, ERI, ESP, ETH, EUU,\n",
        "       FIN, FJI, FSM, FRO, FRA, GAB, GBR, GRD, GEO, GHA, GRL, GMB, GIN,\n",
        "       GNQ, GRC, GTM, GUM, GNB, GUY, HKG, HND, HRV, HTI, HUN, IDN, IRL,\n",
        "       ISR, IMN, IND, IRQ, IRN, ISL, ITA, CHI, JAM, JOR, JPN, KEN, KGZ,\n",
        "       KHM, KIR, COM, KNA, PRK, KOR, KSV, KWT, CYM, KAZ, LAO, LBN, LCA,\n",
        "       LIE, LKA, LBR, LSO, LTU, LUX, LVA, LBY, MAR, MCO, MDA, MNE, MAF,\n",
        "       MDG, MHL, MKD, MLI, MMR, MNG, MAC, MNP, MRT, MLT, MUS, MDV, MWI,\n",
        "       MEX, MYS, MOZ, NAM, NCL, NER, NGA, NIC, NLD, NOR, NPL, NZL, OED,\n",
        "       OMN, PAN, PER, PYF, PNG, PHL, PAK, POL, PRI, PSE, PRT, PLW, PRY,\n",
        "       QAT, ROU, SRB, RUS, RWA, SST, PSS, CSS, OSS, SAU, SLB, SYC, SDN,\n",
        "       SWE, SGP, SVN, SVK, SLE, SMR, SEN, SOM, SUR, SSD, STP, SLV, SXM,\n",
        "       SYR, SWZ, TCA, TCD, TGO, THA, TJK, TLS, TKM, TUN, TON, TUR, TTO,\n",
        "       TUV, TZA, UKR, UGA, USA, URY, UZB, VCT, VEN, VIR, VNM, VUT, WSM,\n",
        "       EMU, HIC, HPC, LAC, LDC, LIC, LMC, LMY, MIC, MNA, NOC, OEC, UMC,\n",
        "       NAC, INX, YEM, EAS, ECS, ZAF, SSA, SSF, LCN, ZMB, MEA, ZWE], dtype=object)"
       ]
      }
     ],
     "prompt_number": 27
    },
    {
     "cell_type": "markdown",
     "metadata": {},
     "source": [
      "Now save it in the format to be used for D3.\n",
      "Specifically the format used in the [motion chart example](http://bost.ocks.org/mike/nations/)\n",
      "\n",
      "That is, a Json in the format: [{\"name\":\"Spain\"},\"xaxis\":[[year,value],...], ...]"
     ]
    },
    {
     "cell_type": "code",
     "collapsed": false,
     "input": [
      "import numpy as np\n",
      "import json\n",
      "\n",
      "x=joint['FDI']['2010'].values\n",
      "y=joint['ODA']['2010'].values\n",
      "labels=joint['FDI']['2010'].index.values #ISO2\n",
      "years=joint.minor_axis\n",
      "\n",
      "ISO2=\"ES\"\n",
      "\n",
      "jsonf=[]\n",
      "for ISO3 in labels:\n",
      "    x=joint['FDI'].ix[ISO3].values\n",
      "    y=joint['ODA'].ix[ISO3].values\n",
      "    jsonf.append({\n",
      "        \"name\":str(ISO3),\n",
      "        \"fdi\":[[int(a),float(b)] for a,b in zip(years,x)  if b!=None], #pythonic way to remove None pairs in x\n",
      "        \"oda\":[[int(a),float(b)] for a,b in zip(years,y)  if b!=None]\n",
      "        })\n",
      "\n",
      "filename=\"FDI-ODA.json\"\n",
      "json.dump(jsonf, open(filename, 'wb'))  \n"
     ],
     "language": "python",
     "metadata": {},
     "outputs": [],
     "prompt_number": 190
    },
    {
     "cell_type": "code",
     "collapsed": false,
     "input": [],
     "language": "python",
     "metadata": {},
     "outputs": []
    }
   ],
   "metadata": {}
  }
 ]
}