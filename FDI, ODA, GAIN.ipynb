{
 "metadata": {
  "name": "FDI, ODA, GAIN"
 },
 "nbformat": 3,
 "nbformat_minor": 0,
 "worksheets": [
  {
   "cells": [
    {
     "cell_type": "markdown",
     "metadata": {},
     "source": [
      "First read the data from the World Bank\n",
      "\n",
      "We use the JSON API, and then we shape the results into a matrix (Country_ISO3 x Year) and a (Country_name x)"
     ]
    },
    {
     "cell_type": "code",
     "collapsed": false,
     "input": [
      "import ujson\n",
      "import urllib2\n",
      "import pandas as pd\n",
      "\n",
      "indicator=\"BN.KLT.DINV.CD\"\n",
      "\n",
      "def WB_data_grab(indicator,years=[1995,2012]):\n",
      "    #Construct the WB API URL\n",
      "    DATA_url='http://api.worldbank.org/countries/all/indicators/'+\\\n",
      "     indicator+'?date='+str(int(years[0]))+':'+str(int(years[1]))+'&format=json&per_page=9999'\n",
      "    #Fetch the response and parse the JSON\n",
      "    req = urllib2.urlopen(DATA_url)\n",
      "    json_req=ujson.load(req)\n",
      "\n",
      "    #Make it a matrix with the right shape ISO2 x year x measure \n",
      "    matrix=pd.DataFrame(json_req[1])\n",
      "    names=matrix\n",
      "    names['ISO2']=matrix['country'].apply(lambda x: x.get('id','None'))\n",
      "    matrix['ISO2']=matrix['country'].apply(lambda x: x.get('id','None'))\n",
      "    names['country']=matrix['country'].apply(lambda x: x.get('value','None'))\n",
      "   \n",
      "    matrix = matrix.pivot(index='ISO2',columns='date',values='value')\n",
      "    n = dict(zip(names['ISO2'],names['country']))\n",
      "    print n\n",
      "   \n",
      "\n",
      "WB_data_grab(indicator)"
     ],
     "language": "python",
     "metadata": {},
     "outputs": [
      {
       "output_type": "stream",
       "stream": "stdout",
       "text": [
        "{u'BD': u'Bangladesh', u'BE': u'Belgium', u'BF': u'Burkina Faso', u'BG': u'Bulgaria', u'BA': u'Bosnia and Herzegovina', u'BB': u'Barbados', u'BM': u'Bermuda', u'BN': u'Brunei Darussalam', u'BO': u'Bolivia', u'BH': u'Bahrain', u'BI': u'Burundi', u'BJ': u'Benin', u'BT': u'Bhutan', u'JM': u'Jamaica', u'BW': u'Botswana', u'WS': u'Samoa', u'BR': u'Brazil', u'BS': u'Bahamas, The', u'JG': u'Channel Islands', u'BY': u'Belarus', u'BZ': u'Belize', u'RU': u'Russian Federation', u'RW': u'Rwanda', u'RS': u'Serbia', u'TL': u'Timor-Leste', u'TM': u'Turkmenistan', u'XT': u'Upper middle income', u'TJ': u'Tajikistan', u'RO': u'Romania', u'GW': u'Guinea-Bissau', u'GU': u'Guam', u'GT': u'Guatemala', u'GR': u'Greece', u'GQ': u'Equatorial Guinea', u'JP': u'Japan', u'IM': u'Isle of Man', u'GY': u'Guyana', u'GE': u'Georgia', u'GD': u'Grenada', u'GB': u'United Kingdom', u'GA': u'Gabon', u'GN': u'Guinea', u'GM': u'Gambia, The', u'GL': u'Greenland', u'SA': u'Saudi Arabia', u'GH': u'Ghana', u'OM': u'Oman', u'TN': u'Tunisia', u'OE': u'OECD members', u'UY': u'Uruguay', u'JO': u'Jordan', u'HR': u'Croatia', u'HT': u'Haiti', u'HU': u'Hungary', u'HK': u'Hong Kong SAR, China', u'HN': u'Honduras', u'CR': u'Costa Rica', u'VE': u'Venezuela, RB', u'PR': u'Puerto Rico', u'PS': u'West Bank and Gaza', u'PW': u'Palau', u'PT': u'Portugal', u'KN': u'St. Kitts and Nevis', u'PY': u'Paraguay', u'SI': u'Slovenia', u'PA': u'Panama', u'PF': u'French Polynesia', u'PG': u'Papua New Guinea', u'PE': u'Peru', u'Z4': u'East Asia & Pacific (all income levels)', u'PK': u'Pakistan', u'PH': u'Philippines', u'Z7': u'Europe & Central Asia (all income levels)', u'EG': u'Egypt, Arab Rep.', u'PL': u'Poland', u'SN': u'Senegal', u'ZM': u'Zambia', u'ZJ': u'Latin America & Caribbean (all income levels)', u'EE': u'Estonia', u'ZF': u'Sub-Saharan Africa (developing only)', u'ZG': u'Sub-Saharan Africa (all income levels)', u'ZA': u'South Africa', u'EC': u'Ecuador', u'IT': u'Italy', u'VN': u'Vietnam', u'SB': u'Solomon Islands', u'EU': u'European Union', u'ET': u'Ethiopia', u'SO': u'Somalia', u'ZW': u'Zimbabwe', u'ZQ': u'Middle East & North Africa (all income levels)', u'ES': u'Spain', u'ER': u'Eritrea', u'ME': u'Montenegro', u'MD': u'Moldova', u'MG': u'Madagascar', u'MF': u'St. Martin (French part)', u'MA': u'Morocco', u'MC': u'Monaco', u'UZ': u'Uzbekistan', u'MM': u'Myanmar', u'ML': u'Mali', u'MO': u'Macao SAR, China', u'MN': u'Mongolia', u'MH': u'Marshall Islands', u'MK': u'Macedonia, FYR', u'MU': u'Mauritius', u'MT': u'Malta', u'MW': u'Malawi', u'MV': u'Maldives', u'MP': u'Northern Mariana Islands', u'MR': u'Mauritania', u'8S': u'South Asia', u'UG': u'Uganda', u'MY': u'Malaysia', u'MX': u'Mexico', u'IL': u'Israel', u'FR': u'France', u'1W': u'World', u'S3': u'Caribbean small states', u'S2': u'Pacific island small states', u'S1': u'Small states', u'S4': u'Other small states', u'1A': u'Arab World', u'FI': u'Finland', u'FJ': u'Fiji', u'FM': u'Micronesia, Fed. Sts.', u'FO': u'Faeroe Islands', u'NI': u'Nicaragua', u'AZ': u'Azerbaijan', u'NL': u'Netherlands', u'NO': u'Norway', u'NA': u'Namibia', u'VU': u'Vanuatu', u'NC': u'New Caledonia', u'NE': u'Niger', u'NG': u'Nigeria', u'NZ': u'New Zealand', u'NP': u'Nepal', u'XJ': u'Latin America & Caribbean (developing only)', u'CI': u\"Cote d'Ivoire\", u'CH': u'Switzerland', u'CO': u'Colombia', u'XO': u'Low & middle income', u'XL': u'Least developed countries: UN classification', u'XM': u'Low income', u'XC': u'Euro area', u'CA': u'Canada', u'CG': u'Congo, Rep.', u'CF': u'Central African Republic', u'XD': u'High income', u'XE': u'Heavily indebted poor countries (HIPC)', u'CZ': u'Czech Republic', u'CY': u'Cyprus', u'XY': u'Not classified', u'XR': u'High income: nonOECD', u'XS': u'High income: OECD', u'XP': u'Middle income', u'XQ': u'Middle East & North Africa (developing only)', u'CW': u'Curacao', u'CV': u'Cape Verde', u'CU': u'Cuba', u'XU': u'North America', u'SZ': u'Swaziland', u'SY': u'Syrian Arab Republic', u'SX': u'Sint Maarten (Dutch part)', u'KG': u'Kyrgyz Republic', u'KE': u'Kenya', u'SS': u'South Sudan', u'SR': u'Suriname', u'KI': u'Kiribati', u'KH': u'Cambodia', u'SV': u'El Salvador', u'KM': u'Comoros', u'ST': u'Sao Tome and Principe', u'SK': u'Slovak Republic', u'KR': u'Korea, Rep.', u'CD': u'Congo, Dem. Rep.', u'KP': u'Korea, Dem. Rep.', u'KW': u'Kuwait', u'KV': u'Kosovo', u'SM': u'San Marino', u'SL': u'Sierra Leone', u'SC': u'Seychelles', u'KZ': u'Kazakhstan', u'KY': u'Cayman Islands', u'SG': u'Singapore', u'SE': u'Sweden', u'SD': u'Sudan', u'DO': u'Dominican Republic', u'DM': u'Dominica', u'DJ': u'Djibouti', u'DK': u'Denmark', u'DE': u'Germany', u'YE': u'Yemen, Rep.', u'DZ': u'Algeria', u'US': u'United States', u'XN': u'Lower middle income', u'CN': u'China', u'7E': u'Europe & Central Asia (developing only)', u'LB': u'Lebanon', u'CM': u'Cameroon', u'LA': u'Lao PDR', u'TV': u'Tuvalu', u'TT': u'Trinidad and Tobago', u'CL': u'Chile', u'TR': u'Turkey', u'LK': u'Sri Lanka', u'LI': u'Liechtenstein', u'LV': u'Latvia', u'TO': u'Tonga', u'LT': u'Lithuania', u'LU': u'Luxembourg', u'LR': u'Liberia', u'LS': u'Lesotho', u'TH': u'Thailand', u'TG': u'Togo', u'TD': u'Chad', u'TC': u'Turks and Caicos Islands', u'LY': u'Libya', u'VC': u'St. Vincent and the Grenadines', u'AE': u'United Arab Emirates', u'AD': u'Andorra', u'AG': u'Antigua and Barbuda', u'AF': u'Afghanistan', u'IQ': u'Iraq', u'VI': u'Virgin Islands (U.S.)', u'IS': u'Iceland', u'IR': u'Iran, Islamic Rep.', u'AM': u'Armenia', u'AL': u'Albania', u'AO': u'Angola', u'AS': u'American Samoa', u'AR': u'Argentina', u'AU': u'Australia', u'AT': u'Austria', u'AW': u'Aruba', u'IN': u'India', u'TZ': u'Tanzania', u'4E': u'East Asia & Pacific (developing only)', u'IE': u'Ireland', u'ID': u'Indonesia', u'LC': u'St. Lucia', u'UA': u'Ukraine', u'QA': u'Qatar', u'MZ': u'Mozambique'}\n"
       ]
      }
     ],
     "prompt_number": 151
    },
    {
     "cell_type": "code",
     "collapsed": false,
     "input": [
      "pd.Serie(FDI.country[0])"
     ],
     "language": "python",
     "metadata": {},
     "outputs": [
      {
       "output_type": "pyout",
       "prompt_number": 37,
       "text": [
        "id               1A\n",
        "value    Arab World"
       ]
      }
     ],
     "prompt_number": 37
    },
    {
     "cell_type": "code",
     "collapsed": false,
     "input": [],
     "language": "python",
     "metadata": {},
     "outputs": []
    }
   ],
   "metadata": {}
  }
 ]
}